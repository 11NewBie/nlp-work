{
 "cells": [
  {
   "cell_type": "code",
   "id": "initial_id",
   "metadata": {
    "collapsed": true
   },
   "source": [
    "import pandas as pd\n",
    "data = pd.read_json('C:\\study\\研一上\\作业\\自然语言处理\\data\\data\\_train.json',lines=True)"
   ],
   "outputs": [],
   "execution_count": null
  },
  {
   "metadata": {},
   "cell_type": "code",
   "source": "import pandas as pd",
   "id": "74256361c1939340",
   "outputs": [],
   "execution_count": null
  },
  {
   "metadata": {},
   "cell_type": "code",
   "source": [
    "df = pd.read_json('C:\\study\\研一上\\作业\\自然语言处理\\data\\data\\_train.json',lines=True,orient='records')\n",
    "df = df[pd.notnull(df['label'])]"
   ],
   "id": "8d4b9ffd3ee3e03",
   "outputs": [],
   "execution_count": null
  },
  {
   "metadata": {},
   "cell_type": "code",
   "source": "print(df.head(11))",
   "id": "eb51babf56d00930",
   "outputs": [],
   "execution_count": null
  },
  {
   "metadata": {},
   "cell_type": "code",
   "source": [
    "with open('C:\\study\\研一上\\作业\\自然语言处理\\data\\data\\label_list.txt', 'r') as f:\n",
    "    lines = f.readlines()\n",
    "    labels = []\n",
    "    for line in lines:\n",
    "        labels.append(line.strip())\n",
    "    f.close()"
   ],
   "id": "7d0b67dca8322f8a",
   "outputs": [],
   "execution_count": null
  },
  {
   "metadata": {},
   "cell_type": "code",
   "source": "labels",
   "id": "48d265738c6ee26b",
   "outputs": [],
   "execution_count": null
  },
  {
   "metadata": {},
   "cell_type": "code",
   "source": "import re",
   "id": "588aeef41d9af88f",
   "outputs": [],
   "execution_count": null
  },
  {
   "metadata": {},
   "cell_type": "code",
   "source": [
    "REPLACE_BY_SPACE_RE = re.compile('[/{}\\[\\]\\|@,;]')#括号直接去掉，而不是分成两个词\n",
    "BAD_SYMBOLS_RE = re.compile('[^a-z #+_]')# 不显示数字了"
   ],
   "id": "d2cd6533823dff3a",
   "outputs": [],
   "execution_count": null
  },
  {
   "metadata": {},
   "cell_type": "code",
   "source": [
    "def clean_text(text):\n",
    "    \"\"\"\n",
    "        text: a string\n",
    "\n",
    "        return: modified initial string\n",
    "    \"\"\"\n",
    "    #text = BeautifulSoup(text, \"lxml\").text  # HTML decoding\n",
    "    text = text.lower()  # lowercase text\n",
    "    text = REPLACE_BY_SPACE_RE.sub(' ', text)  # replace REPLACE_BY_SPACE_RE symbols by space in text\n",
    "    text = BAD_SYMBOLS_RE.sub('', text)  # delete symbols which are in BAD_SYMBOLS_RE from text\n",
    "    # text = ' '.join(word for word in text.split() if word not in STOPWORDS)  # delete stopwors from text\n",
    "    return text\n",
    "\n",
    "df['text'] = df['text'].apply(clean_text)"
   ],
   "id": "da9e4d4ac9a555d4",
   "outputs": [],
   "execution_count": null
  },
  {
   "metadata": {},
   "cell_type": "code",
   "source": "df.iloc[0]['text']",
   "id": "af1d8a1ac7a4e70c",
   "outputs": [],
   "execution_count": null
  },
  {
   "metadata": {},
   "cell_type": "code",
   "source": [
    "from sklearn.model_selection import train_test_split\n",
    "from sklearn.pipeline import Pipeline\n",
    "from sklearn.feature_extraction.text import CountVectorizer\n",
    "from sklearn.multiclass import OneVsRestClassifier\n",
    "from sklearn.svm import LinearSVC\n",
    "from sklearn.feature_extraction.text import TfidfVectorizer\n",
    "from sklearn.preprocessing import MultiLabelBinarizer\n",
    "import pandas as pd"
   ],
   "id": "a5529313ebf97d64",
   "outputs": [],
   "execution_count": null
  },
  {
   "metadata": {},
   "cell_type": "code",
   "source": [
    "labels = df['label'].values\n",
    "labels_dic = {}\n",
    "for label_list in labels:\n",
    "    for label in label_list:\n",
    "        if label not in labels_dic:\n",
    "            labels_dic[label] = 1\n",
    "        else:\n",
    "            labels_dic[label] += 1\n",
    "labels_dic"
   ],
   "id": "588030d8fe730c72",
   "outputs": [],
   "execution_count": null
  },
  {
   "metadata": {},
   "cell_type": "code",
   "source": [
    "X_train = list(df['text'])\n",
    "X_train"
   ],
   "id": "34e5e4d4c4c7fd49",
   "outputs": [],
   "execution_count": null
  },
  {
   "metadata": {},
   "cell_type": "code",
   "source": "y_train = df['label']",
   "id": "441141d19c266e03",
   "outputs": [],
   "execution_count": null
  },
  {
   "metadata": {},
   "cell_type": "code",
   "source": "y_train ",
   "id": "238faccc8b26a40",
   "outputs": [],
   "execution_count": null
  },
  {
   "metadata": {},
   "cell_type": "code",
   "source": "y_train = list(y_train)",
   "id": "4d81b9efeeb530c1",
   "outputs": [],
   "execution_count": null
  },
  {
   "metadata": {},
   "cell_type": "code",
   "source": [
    "vf = pd.read_json('C:\\study\\研一上\\作业\\自然语言处理\\data\\data2\\_valid.json',lines=True)\n",
    "vf = vf[pd.notnull(vf['label'])]"
   ],
   "id": "e5d04ac7483959fd",
   "outputs": [],
   "execution_count": null
  },
  {
   "metadata": {},
   "cell_type": "code",
   "source": "print(vf.head(5))",
   "id": "bc12a1184ede2d2c",
   "outputs": [],
   "execution_count": null
  },
  {
   "metadata": {},
   "cell_type": "code",
   "source": [
    "X_val = list(vf['text'])\n",
    "X_val"
   ],
   "id": "7713dd9694148094",
   "outputs": [],
   "execution_count": null
  },
  {
   "metadata": {},
   "cell_type": "code",
   "source": [
    "y_val = vf['label']\n",
    "y_val"
   ],
   "id": "a85390dbccb0c611",
   "outputs": [],
   "execution_count": null
  },
  {
   "metadata": {},
   "cell_type": "code",
   "source": "y_val = list(y_val)",
   "id": "74fdc24fa5bcd9ac",
   "outputs": [],
   "execution_count": null
  },
  {
   "metadata": {},
   "cell_type": "code",
   "source": [
    "CV = CountVectorizer(min_df=5, max_df=0.9, ngram_range=(1,2), token_pattern='(\\S+)')\n",
    "feature = CV.fit_transform(X_train)\n",
    "print(feature)"
   ],
   "id": "b3ffb87a058c4b62",
   "outputs": [],
   "execution_count": null
  },
  {
   "metadata": {},
   "cell_type": "code",
   "source": [
    "tfidf = TfidfVectorizer(min_df=5, max_df=0.9, ngram_range=(1,2), token_pattern='(\\S+)')\n",
    "feature = tfidf.fit_transform(X_train)\n",
    "print(feature)"
   ],
   "id": "d196bd763b062357",
   "outputs": [],
   "execution_count": null
  },
  {
   "metadata": {},
   "cell_type": "code",
   "source": "y_train",
   "id": "156a12a2ab5d92cc",
   "outputs": [],
   "execution_count": null
  },
  {
   "metadata": {},
   "cell_type": "code",
   "source": [
    "mlb = MultiLabelBinarizer(classes=sorted(labels_dic.keys()))\n",
    "y_train = mlb.fit_transform(y_train)\n",
    "y_val = mlb.fit_transform(y_val)"
   ],
   "id": "a7a3916368c00029",
   "outputs": [],
   "execution_count": null
  },
  {
   "metadata": {},
   "cell_type": "code",
   "source": "y_train",
   "id": "5d8f62d333dc473c",
   "outputs": [],
   "execution_count": null
  },
  {
   "metadata": {},
   "cell_type": "code",
   "source": [
    "from sklearn.metrics import accuracy_score\n",
    "from sklearn.metrics import f1_score\n",
    "\n",
    "def evaluation(y_val, predicted):\n",
    "    accuracy = accuracy_score(y_val, predicted)\n",
    "    f1_score_macro = f1_score(y_val, predicted, average='macro')\n",
    "    print(\"accuracy:\", accuracy)\n",
    "    print('f1_score_macro',f1_score_macro)"
   ],
   "id": "6964214df86b2d4b",
   "outputs": [],
   "execution_count": null
  },
  {
   "metadata": {},
   "cell_type": "code",
   "source": [
    "pipeline1 = Pipeline([\n",
    "    ('tfidf', TfidfVectorizer(min_df=5, max_df=0.9, ngram_range=(1,2), token_pattern='(\\S+)')),\n",
    "    ('lsvc', OneVsRestClassifier(LinearSVC()))\n",
    "])\n",
    "pipeline1.fit(X_train,y_train)\n",
    "predicted = pipeline1.predict(X_val)\n",
    "evaluation(y_val, predicted)"
   ],
   "id": "fe0a165515404262",
   "outputs": [],
   "execution_count": null
  },
  {
   "metadata": {},
   "cell_type": "code",
   "source": [
    "test_df = pd.read_csv('ceshitest.txt', sep='\\0', header=None)\n",
    "test_df.columns = ['text']"
   ],
   "id": "673a9c64bc5c51e1",
   "outputs": [],
   "execution_count": null
  },
  {
   "metadata": {},
   "cell_type": "code",
   "source": "test_df",
   "id": "a83661aceff7c13c",
   "outputs": [],
   "execution_count": null
  },
  {
   "metadata": {},
   "cell_type": "code",
   "source": "testSet = list(test_df['text'])",
   "id": "29596736ebf0d64d",
   "outputs": [],
   "execution_count": null
  },
  {
   "metadata": {},
   "cell_type": "code",
   "source": "test_predicted_labels = pipeline1.predict(testSet)",
   "id": "9f1cca8d12b7c36e",
   "outputs": [],
   "execution_count": null
  },
  {
   "metadata": {},
   "cell_type": "code",
   "source": "test_predicted_labels",
   "id": "eab61e49ef44782e",
   "outputs": [],
   "execution_count": null
  },
  {
   "metadata": {},
   "cell_type": "code",
   "source": "test_original_labels = mlb.inverse_transform(test_predicted_labels)",
   "id": "89bb20ec8ced9806",
   "outputs": [],
   "execution_count": null
  },
  {
   "metadata": {},
   "cell_type": "code",
   "source": "test_original_labels",
   "id": "6d97296a1973ee38",
   "outputs": [],
   "execution_count": null
  },
  {
   "metadata": {},
   "cell_type": "code",
   "source": [
    "with open(\"test_labels.txt\", \"w\") as file:\n",
    "    for tol in test_original_labels:\n",
    "        line = ','.join(tol)\n",
    "        if not line.strip():\n",
    "            line = \"No_Mentioned\"\n",
    "        file.write(line + '\\n')"
   ],
   "id": "ea9984d0d584333c",
   "outputs": [],
   "execution_count": null
  }
 ],
 "metadata": {
  "kernelspec": {
   "display_name": "Python 3",
   "language": "python",
   "name": "python3"
  },
  "language_info": {
   "codemirror_mode": {
    "name": "ipython",
    "version": 2
   },
   "file_extension": ".py",
   "mimetype": "text/x-python",
   "name": "python",
   "nbconvert_exporter": "python",
   "pygments_lexer": "ipython2",
   "version": "2.7.6"
  }
 },
 "nbformat": 4,
 "nbformat_minor": 5
}
